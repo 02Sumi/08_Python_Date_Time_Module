{
 "cells": [
  {
   "cell_type": "markdown",
   "metadata": {},
   "source": [
    "<small><small><i>\n",
    "All of these python notebooks are available at [ https://github.com/milaan9/Python4DataScience ]\n",
    "</i></small></small>"
   ]
  },
  {
   "cell_type": "markdown",
   "metadata": {},
   "source": [
    "# Python `strftime()`\n",
    "\n",
    "In this class, you will learn to convert date, time and datetime objects to its equivalent string (with the help of examples).\n",
    "\n",
    "The **`strftime()`** method returns a string representing date and time using date, time or datetime object."
   ]
  },
  {
   "cell_type": "markdown",
   "metadata": {},
   "source": [
    "The program below converts a **`datetime`** object containing current date and time to different string formats."
   ]
  },
  {
   "cell_type": "code",
   "execution_count": null,
   "metadata": {
    "ExecuteTime": {
     "end_time": "2021-05-23T13:37:42.192232Z",
     "start_time": "2021-05-23T13:37:42.169773Z"
    }
   },
   "outputs": [],
   "source": [
    "# Example 1: datetime to string using strftime()\n",
    "\n",
    "from datetime import datetime\n",
    "\n",
    "now = datetime.now() # current date and time\n",
    "\n",
    "year = now.strftime(\"%Y\")\n",
    "print(\"year:\", year)\n",
    "\n",
    "month = now.strftime(\"%m\")\n",
    "print(\"month:\", month)\n",
    "\n",
    "day = now.strftime(\"%d\")\n",
    "print(\"day:\", day)\n",
    "\n",
    "time = now.strftime(\"%H:%M:%S\")\n",
    "print(\"time:\", time)\n",
    "\n",
    "date_time = now.strftime(\"%m/%d/%Y, %H:%M:%S\")\n",
    "print(\"date and time:\",date_time)\n",
    "\n",
    "# When you run the program, the output will be something like below:"
   ]
  },
  {
   "cell_type": "markdown",
   "metadata": {},
   "source": [
    ">**Note:** Here, **`year`**, **`day`**, **`time`** and **`date_time`** are strings, whereas **`now`** is a **`datetime`** object."
   ]
  },
  {
   "cell_type": "markdown",
   "metadata": {},
   "source": [
    "## How `strftime()` works?\n",
    "\n",
    "In the above program, **`%Y`**, **`%m`**, **`%d`** etc. are format codes. The **`strftime()`** method takes one or more format codes as an argument and returns a formatted string based on it."
   ]
  },
  {
   "cell_type": "markdown",
   "metadata": {},
   "source": [
    "1. We imported **`datetime`** class from the **`datetime`** module. It's because the object of **`datetime`** class can access **`strftime()`** method.\n",
    "\n",
    "<div>\n",
    "<img src=\"img/idt.png\" width=\"400\"/>\n",
    "</div>\n",
    "\n",
    "2. The **`datetime`** object containing current date and time is stored in **`now`** variable.\n",
    "\n",
    "<div>\n",
    "<img src=\"img/cdt.png\" width=\"400\"/>\n",
    "</div>\n",
    "\n",
    "3. The **`strftime()`** method can be used to create formatted strings.\n",
    "\n",
    "<div>\n",
    "<img src=\"img/strff1.png\" width=\"400\"/>\n",
    "</div>\n",
    "\n",
    "4. The string you pass to the **`strftime()`** method may contain more than one format codes.\n",
    "\n",
    "<div>\n",
    "<img src=\"img/strff2.png\" width=\"400\"/>\n",
    "</div>"
   ]
  },
  {
   "cell_type": "code",
   "execution_count": null,
   "metadata": {
    "ExecuteTime": {
     "end_time": "2021-05-23T13:53:28.477157Z",
     "start_time": "2021-05-23T13:53:28.452746Z"
    }
   },
   "outputs": [],
   "source": [
    "# Example 2: Creating string from a timestamp\n",
    "\n",
    "from datetime import datetime\n",
    "\n",
    "timestamp = 1528797322\n",
    "date_time = datetime.fromtimestamp(timestamp)\n",
    "\n",
    "print(\"Date time object:\", date_time)\n",
    "\n",
    "d = date_time.strftime(\"%m/%d/%Y, %H:%M:%S\")\n",
    "print(\"Output 2:\", d)\t\n",
    "\n",
    "d = date_time.strftime(\"%d %b, %Y\")\n",
    "print(\"Output 3:\", d)\n",
    "\n",
    "d = date_time.strftime(\"%d %B, %Y\")\n",
    "print(\"Output 4:\", d)\n",
    "\n",
    "d = date_time.strftime(\"%I%p\")\n",
    "print(\"Output 5:\", d)\n",
    "\n",
    "# When you run the program, the output will be something like below:"
   ]
  },
  {
   "cell_type": "markdown",
   "metadata": {
    "cell_style": "center"
   },
   "source": [
    "## Format Code List\n",
    "\n",
    "The table below shows all the codes that you can pass to the **`strftime()`** method.\n",
    "\n",
    "| Directive | Meaning | Example |\n",
    "|:---- |:---- |:---- |\n",
    "| **`%a`**  | **Abbreviated weekday name.**   | **Sun, Mon, ...** |  \n",
    "| **`%A`**  | **Full weekday name.**   | **Sunday, Monday, ...** |  \n",
    "| **`%w`**  | **Weekday as a decimal number.**   | **0, 1, ..., 6** |  \n",
    "| **`%d`**  | **Day of the month as a zero-padded decimal.**   | **01, 02, ..., 31** |  \n",
    "| **`%-d`** | **Day of the month as a decimal number.**   | **1, 2, ..., 30** |  \n",
    "| **`%b`**  | **Abbreviated month name.**   | **Jan, Feb, ..., Dec** |  \n",
    "| **`%B`**  | **Full month name.**   | **January, February, ...** |  \n",
    "| **`%m`**  | **Month as a zero-padded decimal number.**   | **01, 02, ..., 12** |  \n",
    "| **`%-m`** | **Month as a decimal number.**   | **1, 2, ..., 12** |  \n",
    "| **`%y`**  | **Year without century as a zero-padded decimal number.**   | **00, 01, ..., 99** |  \n",
    "| **`%-y`** | **Year without century as a decimal number.**   | **0, 1, ..., 99** |  \n",
    "| **`%Y`**  | **Year with century as a decimal number.**   | **2013, 2019 etc.** |  \n",
    "| **`%H`**  | **Hour (24-hour clock) as a zero-padded decimal number.**   | **00, 01, ..., 23** |  \n",
    "| **`%-H`** | **Hour (24-hour clock) as a decimal number.**   | **0, 1, ..., 23** |  \n",
    "| **`%I`**  | **Hour (12-hour clock) as a zero-padded decimal number.**   | **01, 02, ..., 12** |  \n",
    "| **`%-I`** | **Hour (12-hour clock) as a decimal number.**   | **1, 2, ... 12** |  \n",
    "| **`%p`**  | **Locale’s AM or PM.**   | **AM, PM** |  \n",
    "| **`%M`**  | **Minute as a zero-padded decimal number.**   | **00, 01, ..., 59** |  \n",
    "| **`%-M`** | **Minute as a decimal number.**   | **0, 1, ..., 59** |  \n",
    "| **`%S`**  | **Second as a zero-padded decimal number.**   | **00, 01, ..., 59** |  \n",
    "| **`%-S`** | **Second as a decimal number.**   | **0, 1, ..., 59** |  \n",
    "| **`%f`**  | **Microsecond as a decimal number, zero-padded on the left.**   | **000000 - 999999** |  \n",
    "| **`%z`**  | **UTC offset in the form +HHMM or -HHMM.**   |  |  \n",
    "| **`%Z`**  | **Time zone name.**   |  |  \n",
    "| **`%j`**  | **Day of the year as a zero-padded decimal number.**   | **001, 002, ..., 366** |  \n",
    "| **`%-j`** | **Day of the year as a decimal number.**   | **1, 2, ..., 366** |  \n",
    "| **`%U`**  | **Week number of the year (Sunday as the first day of the week). All days in a new year preceding the first Sunday are considered to be in week 0.**   | **00, 01, ..., 53** |  \n",
    "| **`%U`**  | **Week number of the year (Monday as the first day of the week). All days in a new year preceding the first Monday are considered to be in week 0.**   | **00, 01, ..., 53** |  \n",
    "| **`%c`**  | **Locale’s appropriate date and time representation.**   | **Mon Sep 30 07:06:05 2013** |  \n",
    "| **`%x`**  | **Locale’s appropriate date representation.**   | **09/30/13** |  \n",
    "| **`%X`**  | **Locale’s appropriate time representation.**   | **07:06:05** |  \n",
    "| **`%%`**  | **A literal '%' character.**   | **%** | "
   ]
  },
  {
   "cell_type": "code",
   "execution_count": null,
   "metadata": {
    "ExecuteTime": {
     "end_time": "2021-05-23T14:14:41.138789Z",
     "start_time": "2021-05-23T14:14:41.118280Z"
    }
   },
   "outputs": [],
   "source": [
    "# Example 3: Locale's appropriate date and time\n",
    "\n",
    "from datetime import datetime\n",
    "\n",
    "timestamp = 1528797322\n",
    "date_time = datetime.fromtimestamp(timestamp)\n",
    "\n",
    "d = date_time.strftime(\"%c\")\n",
    "print(\"Output 1:\", d)\t\n",
    "\n",
    "d = date_time.strftime(\"%x\")\n",
    "print(\"Output 2:\", d)\n",
    "\n",
    "d = date_time.strftime(\"%X\")\n",
    "print(\"Output 3:\", d)\n",
    "\n",
    "# When you run the program, the output will be something like below:"
   ]
  },
  {
   "cell_type": "markdown",
   "metadata": {},
   "source": [
    ">**Note:** Format codes **`%c`**, **`%x`** and **`%X`** are used for locale's appropriate date and time representation."
   ]
  },
  {
   "cell_type": "markdown",
   "metadata": {},
   "source": [
    "We also recommend you to check **[Python strptime()](http://localhost:8888/notebooks/01_Learn_Python4Data/08_Python_Date_Time/003_Python_strptime.ipynb)**. The strptime() method creates a datetime object from a string."
   ]
  },
  {
   "cell_type": "code",
   "execution_count": null,
   "metadata": {},
   "outputs": [],
   "source": []
  }
 ],
 "metadata": {
  "hide_input": false,
  "kernelspec": {
   "display_name": "Python 3",
   "language": "python",
   "name": "python3"
  },
  "language_info": {
   "codemirror_mode": {
    "name": "ipython",
    "version": 3
   },
   "file_extension": ".py",
   "mimetype": "text/x-python",
   "name": "python",
   "nbconvert_exporter": "python",
   "pygments_lexer": "ipython3",
   "version": "3.8.3"
  },
  "varInspector": {
   "cols": {
    "lenName": 16,
    "lenType": 16,
    "lenVar": 40
   },
   "kernels_config": {
    "python": {
     "delete_cmd_postfix": "",
     "delete_cmd_prefix": "del ",
     "library": "var_list.py",
     "varRefreshCmd": "print(var_dic_list())"
    },
    "r": {
     "delete_cmd_postfix": ") ",
     "delete_cmd_prefix": "rm(",
     "library": "var_list.r",
     "varRefreshCmd": "cat(var_dic_list()) "
    }
   },
   "types_to_exclude": [
    "module",
    "function",
    "builtin_function_or_method",
    "instance",
    "_Feature"
   ],
   "window_display": false
  }
 },
 "nbformat": 4,
 "nbformat_minor": 2
}
