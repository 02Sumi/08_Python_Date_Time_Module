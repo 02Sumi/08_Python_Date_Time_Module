{
 "cells": [
  {
   "cell_type": "markdown",
   "metadata": {},
   "source": [
    "<small><small><i>\n",
    "All of these python notebooks are available at [ https://github.com/milaan9/Python4DataScience ]\n",
    "</i></small></small>"
   ]
  },
  {
   "cell_type": "markdown",
   "metadata": {},
   "source": [
    "# Python `strptime()`\n",
    "\n",
    "In this class, you will learn to create a datetime object from a string (with the help of examples).\n",
    "\n",
    "The **`strptime()`** method creates a **[datetime](http://localhost:8888/notebooks/01_Learn_Python4Data/08_Python_Date_Time/001_Python_datetime.ipynb)** object from the given string (see Example 9: Python datetime object).\n",
    "\n",
    ">**Note:** You cannot create **`datetime`** object from every string. The string needs to be in a certain format."
   ]
  },
  {
   "cell_type": "code",
   "execution_count": null,
   "metadata": {
    "ExecuteTime": {
     "end_time": "2021-05-23T14:25:31.616706Z",
     "start_time": "2021-05-23T14:25:31.598149Z"
    }
   },
   "outputs": [],
   "source": [
    "# Example 1: string to datetime object\n",
    "\n",
    "from datetime import datetime\n",
    "\n",
    "date_string = \"21 June, 2018\"\n",
    "\n",
    "print(\"date_string =\", date_string)\n",
    "print(\"type of date_string =\", type(date_string))\n",
    "\n",
    "date_object = datetime.strptime(date_string, \"%d %B, %Y\")\n",
    "\n",
    "print(\"date_object =\", date_object)\n",
    "print(\"type of date_object =\", type(date_object))\n",
    "\n",
    "# When you run the program, the output will be something like below:"
   ]
  },
  {
   "cell_type": "markdown",
   "metadata": {},
   "source": [
    "## How `strptime()` works?\n",
    "\n",
    "The **`strftime()`** class method takes two arguments:\n",
    "\n",
    "1. string (that be converted to datetime)\n",
    "2. format code\n",
    "\n",
    "Based on the string and format code used, the method returns its equivalent **`datetime`** object.\n",
    "\n",
    "In the above example:\n",
    "\n",
    "<div>\n",
    "<img src=\"img/strpt.png\" width=\"450\"/>\n",
    "</div>\n",
    "\n",
    "Here,\n",
    "\n",
    "* **`%d`** - Represents the day of the month. **Example:** 01, 02, ..., 31\n",
    "* **`%B`** - Month's name in full. **Example:** January, February etc.\n",
    "* **`%Y`** - Year in four digits. **Example:** 2018, 2019 etc."
   ]
  },
  {
   "cell_type": "code",
   "execution_count": null,
   "metadata": {
    "ExecuteTime": {
     "end_time": "2021-05-23T14:29:38.132795Z",
     "start_time": "2021-05-23T14:29:38.121077Z"
    }
   },
   "outputs": [],
   "source": [
    "# Example 2: string to datetime object\n",
    "\n",
    "from datetime import datetime\n",
    "\n",
    "dt_string = \"12/11/2018 09:15:32\"\n",
    "\n",
    "# Considering date is in dd/mm/yyyy format\n",
    "dt_object1 = datetime.strptime(dt_string, \"%d/%m/%Y %H:%M:%S\")\n",
    "print(\"dt_object1 =\", dt_object1)\n",
    "\n",
    "# Considering date is in mm/dd/yyyy format\n",
    "dt_object2 = datetime.strptime(dt_string, \"%m/%d/%Y %H:%M:%S\")\n",
    "print(\"dt_object2 =\", dt_object2)\n",
    "\n",
    "# When you run the program, the output will be something like below:"
   ]
  },
  {
   "cell_type": "markdown",
   "metadata": {
    "cell_style": "center"
   },
   "source": [
    "## Format Code List\n",
    "\n",
    "The table below shows all the codes that you can pass to the **`strptime()`** method.\n",
    "\n",
    "| Directive | Meaning | Example |\n",
    "|:---- |:---- |:---- |\n",
    "| **`%a`**  | **Abbreviated weekday name.**   | **Sun, Mon, ...** |  \n",
    "| **`%A`**  | **Full weekday name.**   | **Sunday, Monday, ...** |  \n",
    "| **`%w`**  | **Weekday as a decimal number.**   | **0, 1, ..., 6** |  \n",
    "| **`%d`**  | **Day of the month as a zero-padded decimal.**   | **01, 02, ..., 31** |  \n",
    "| **`%-d`** | **Day of the month as a decimal number.**   | **1, 2, ..., 30** |  \n",
    "| **`%b`**  | **Abbreviated month name.**   | **Jan, Feb, ..., Dec** |  \n",
    "| **`%B`**  | **Full month name.**   | **January, February, ...** |  \n",
    "| **`%m`**  | **Month as a zero-padded decimal number.**   | **01, 02, ..., 12** |  \n",
    "| **`%-m`** | **Month as a decimal number.**   | **1, 2, ..., 12** |  \n",
    "| **`%y`**  | **Year without century as a zero-padded decimal number.**   | **00, 01, ..., 99** |  \n",
    "| **`%-y`** | **Year without century as a decimal number.**   | **0, 1, ..., 99** |  \n",
    "| **`%Y`**  | **Year with century as a decimal number.**   | **2013, 2019 etc.** |  \n",
    "| **`%H`**  | **Hour (24-hour clock) as a zero-padded decimal number.**   | **00, 01, ..., 23** |  \n",
    "| **`%-H`** | **Hour (24-hour clock) as a decimal number.**   | **0, 1, ..., 23** |  \n",
    "| **`%I`**  | **Hour (12-hour clock) as a zero-padded decimal number.**   | **01, 02, ..., 12** |  \n",
    "| **`%-I`** | **Hour (12-hour clock) as a decimal number.**   | **1, 2, ... 12** |  \n",
    "| **`%p`**  | **Locale’s AM or PM.**   | **AM, PM** |  \n",
    "| **`%M`**  | **Minute as a zero-padded decimal number.**   | **00, 01, ..., 59** |  \n",
    "| **`%-M`** | **Minute as a decimal number.**   | **0, 1, ..., 59** |  \n",
    "| **`%S`**  | **Second as a zero-padded decimal number.**   | **00, 01, ..., 59** |  \n",
    "| **`%-S`** | **Second as a decimal number.**   | **0, 1, ..., 59** |  \n",
    "| **`%f`**  | **Microsecond as a decimal number, zero-padded on the left.**   | **000000 - 999999** |  \n",
    "| **`%z`**  | **UTC offset in the form +HHMM or -HHMM.**   |  |  \n",
    "| **`%Z`**  | **Time zone name.**   |  |  \n",
    "| **`%j`**  | **Day of the year as a zero-padded decimal number.**   | **001, 002, ..., 366** |  \n",
    "| **`%-j`** | **Day of the year as a decimal number.**   | **1, 2, ..., 366** |  \n",
    "| **`%U`**  | **Week number of the year (Sunday as the first day of the week). All days in a new year preceding the first Sunday are considered to be in week 0.**   | **00, 01, ..., 53** |  \n",
    "| **`%U`**  | **Week number of the year (Monday as the first day of the week). All days in a new year preceding the first Monday are considered to be in week 0.**   | **00, 01, ..., 53** |  \n",
    "| **`%c`**  | **Locale’s appropriate date and time representation.**   | **Mon Sep 30 07:06:05 2013** |  \n",
    "| **`%x`**  | **Locale’s appropriate date representation.**   | **09/30/13** |  \n",
    "| **`%X`**  | **Locale’s appropriate time representation.**   | **07:06:05** |  \n",
    "| **`%%`**  | **A literal '%' character.**   | **%** | "
   ]
  },
  {
   "cell_type": "markdown",
   "metadata": {},
   "source": [
    "### `ValueError` in `strptime()`\n",
    "\n",
    "If the string (first argument) and the format code (second argument) passed to the **`strptime()`** doesn't match, you will get **`ValueError`**. For example:"
   ]
  },
  {
   "cell_type": "code",
   "execution_count": null,
   "metadata": {
    "ExecuteTime": {
     "end_time": "2021-05-23T14:31:48.854661Z",
     "start_time": "2021-05-23T14:31:48.140709Z"
    }
   },
   "outputs": [],
   "source": [
    "from datetime import datetime\n",
    "\n",
    "date_string = \"12/11/2018\"\n",
    "date_object = datetime.strptime(date_string, \"%d %m %Y\")\n",
    "\n",
    "print(\"date_object =\", date_object)\n",
    "\n",
    "# When you run the program, the output will be something like below:"
   ]
  },
  {
   "cell_type": "markdown",
   "metadata": {},
   "source": [
    "We also recommend you to check **[Python strftime()](http://localhost:8888/notebooks/01_Learn_Python4Data/08_Python_Date_Time/002_Python_strftime().ipynb)**."
   ]
  },
  {
   "cell_type": "code",
   "execution_count": null,
   "metadata": {},
   "outputs": [],
   "source": []
  }
 ],
 "metadata": {
  "hide_input": false,
  "kernelspec": {
   "display_name": "Python 3",
   "language": "python",
   "name": "python3"
  },
  "language_info": {
   "codemirror_mode": {
    "name": "ipython",
    "version": 3
   },
   "file_extension": ".py",
   "mimetype": "text/x-python",
   "name": "python",
   "nbconvert_exporter": "python",
   "pygments_lexer": "ipython3",
   "version": "3.8.3"
  },
  "varInspector": {
   "cols": {
    "lenName": 16,
    "lenType": 16,
    "lenVar": 40
   },
   "kernels_config": {
    "python": {
     "delete_cmd_postfix": "",
     "delete_cmd_prefix": "del ",
     "library": "var_list.py",
     "varRefreshCmd": "print(var_dic_list())"
    },
    "r": {
     "delete_cmd_postfix": ") ",
     "delete_cmd_prefix": "rm(",
     "library": "var_list.r",
     "varRefreshCmd": "cat(var_dic_list()) "
    }
   },
   "types_to_exclude": [
    "module",
    "function",
    "builtin_function_or_method",
    "instance",
    "_Feature"
   ],
   "window_display": false
  }
 },
 "nbformat": 4,
 "nbformat_minor": 2
}
